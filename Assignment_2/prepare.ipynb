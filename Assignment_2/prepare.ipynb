{
  "cells": [
    {
      "cell_type": "markdown",
      "metadata": {
        "id": "Q8Di5W6VzrL-"
      },
      "source": [
        "## Importing Libraries"
      ]
    },
    {
      "cell_type": "code",
      "execution_count": 1,
      "metadata": {
        "id": "5v2ctQArOc7T"
      },
      "outputs": [],
      "source": [
        "# importing required modules\n",
        "from zipfile import ZipFile\n",
        "from urllib.request import urlopen\n",
        "from io import BytesIO"
      ]
    },
    {
      "cell_type": "code",
      "execution_count": null,
      "metadata": {},
      "outputs": [],
      "source": [
        "# !pip install wordcloud"
      ]
    },
    {
      "cell_type": "code",
      "execution_count": 2,
      "metadata": {
        "colab": {
          "base_uri": "https://localhost:8080/"
        },
        "id": "C2Driht5bJkn",
        "outputId": "0bc5124c-fd3f-4c33-aca2-c3f1d4abf064"
      },
      "outputs": [
        {
          "name": "stderr",
          "output_type": "stream",
          "text": [
            "[nltk_data] Downloading package punkt to\n",
            "[nltk_data]     C:\\Users\\shrey\\AppData\\Roaming\\nltk_data...\n",
            "[nltk_data]   Package punkt is already up-to-date!\n",
            "[nltk_data] Downloading package wordnet to\n",
            "[nltk_data]     C:\\Users\\shrey\\AppData\\Roaming\\nltk_data...\n",
            "[nltk_data]   Package wordnet is already up-to-date!\n",
            "[nltk_data] Downloading package omw-1.4 to\n",
            "[nltk_data]     C:\\Users\\shrey\\AppData\\Roaming\\nltk_data...\n",
            "[nltk_data]   Package omw-1.4 is already up-to-date!\n",
            "[nltk_data] Downloading package stopwords to\n",
            "[nltk_data]     C:\\Users\\shrey\\AppData\\Roaming\\nltk_data...\n",
            "[nltk_data]   Package stopwords is already up-to-date!\n"
          ]
        }
      ],
      "source": [
        "%matplotlib inline\n",
        "import matplotlib.pyplot as plt\n",
        "import pandas as pd\n",
        "import numpy as np\n",
        "import nltk\n",
        "import csv\n",
        "import re\n",
        "import string\n",
        "\n",
        "\n",
        "nltk.download('punkt')\n",
        "nltk.download('wordnet')\n",
        "nltk.download('omw-1.4')\n",
        "nltk.download('stopwords')\n",
        "\n",
        "from nltk.corpus import stopwords\n",
        "from nltk.tokenize import word_tokenize\n",
        "from nltk.stem import WordNetLemmatizer\n",
        "\n",
        "from wordcloud import WordCloud\n",
        "\n",
        "from sklearn.preprocessing import LabelEncoder\n",
        "from sklearn.model_selection import train_test_split"
      ]
    },
    {
      "cell_type": "markdown",
      "metadata": {
        "id": "piOnbJ1Jzw6X"
      },
      "source": [
        "## Reading data"
      ]
    },
    {
      "cell_type": "code",
      "execution_count": 3,
      "metadata": {
        "id": "V67qQMATMf2A"
      },
      "outputs": [],
      "source": [
        "git = \"https://github.com/Deadshot-07/Applied-Machine-Learning/blob/T/Assignment_1/smsspamcollection.zip?raw=true\""
      ]
    },
    {
      "cell_type": "code",
      "execution_count": 4,
      "metadata": {
        "id": "CbcKorpLZxRN"
      },
      "outputs": [],
      "source": [
        "def download_and_unzip(url, extract_to='.'):\n",
        "    http_response = urlopen(url)\n",
        "    zipfile = ZipFile(BytesIO(http_response.read()))\n",
        "    zipfile.extractall(path=extract_to)"
      ]
    },
    {
      "cell_type": "code",
      "execution_count": 5,
      "metadata": {
        "id": "5MJtka-MZ4fL"
      },
      "outputs": [],
      "source": [
        "download_and_unzip(git)"
      ]
    },
    {
      "cell_type": "code",
      "execution_count": 6,
      "metadata": {
        "colab": {
          "base_uri": "https://localhost:8080/"
        },
        "id": "1joo2-54PBxP",
        "outputId": "71a05e2d-e9d6-40a7-9c9e-3293150fb474"
      },
      "outputs": [
        {
          "name": "stdout",
          "output_type": "stream",
          "text": [
            " Volume in drive C is OS\n",
            " Volume Serial Number is 8CB0-500E\n",
            "\n",
            " Directory of c:\\Users\\shrey\\OneDrive\\Documents\\Semester-4\\AML\\Applied-Machine-Learning\\Assignment_2\n",
            "\n",
            "27-02-2023  20:29    <DIR>          .\n",
            "27-02-2023  20:28    <DIR>          ..\n",
            "27-02-2023  20:29    <DIR>          Data\n",
            "27-02-2023  20:07            51,946 prepare.ipynb\n",
            "27-02-2023  20:28                14 Read\n",
            "27-02-2023  20:29             5,868 readme\n",
            "27-02-2023  20:29           477,907 SMSSpamCollection\n",
            "27-02-2023  20:28           203,415 smsspamcollection.zip\n",
            "               5 File(s)        739,150 bytes\n",
            "               3 Dir(s)  36,424,224,768 bytes free\n"
          ]
        }
      ],
      "source": [
        "%ls"
      ]
    },
    {
      "cell_type": "code",
      "execution_count": 7,
      "metadata": {
        "id": "jDc8xYYnagdT"
      },
      "outputs": [],
      "source": [
        "messages = pd.read_csv('./SMSSpamCollection', sep='\\t', quoting=csv.QUOTE_NONE, names=[\"Label\", \"Message\"])"
      ]
    },
    {
      "cell_type": "code",
      "execution_count": 8,
      "metadata": {
        "colab": {
          "base_uri": "https://localhost:8080/",
          "height": 206
        },
        "id": "t8E6R1LNbRAs",
        "outputId": "351fe94d-3b9f-49b0-9497-d4c47139b427"
      },
      "outputs": [
        {
          "data": {
            "text/html": [
              "<div>\n",
              "<style scoped>\n",
              "    .dataframe tbody tr th:only-of-type {\n",
              "        vertical-align: middle;\n",
              "    }\n",
              "\n",
              "    .dataframe tbody tr th {\n",
              "        vertical-align: top;\n",
              "    }\n",
              "\n",
              "    .dataframe thead th {\n",
              "        text-align: right;\n",
              "    }\n",
              "</style>\n",
              "<table border=\"1\" class=\"dataframe\">\n",
              "  <thead>\n",
              "    <tr style=\"text-align: right;\">\n",
              "      <th></th>\n",
              "      <th>Label</th>\n",
              "      <th>Message</th>\n",
              "    </tr>\n",
              "  </thead>\n",
              "  <tbody>\n",
              "    <tr>\n",
              "      <th>0</th>\n",
              "      <td>ham</td>\n",
              "      <td>Go until jurong point, crazy.. Available only ...</td>\n",
              "    </tr>\n",
              "    <tr>\n",
              "      <th>1</th>\n",
              "      <td>ham</td>\n",
              "      <td>Ok lar... Joking wif u oni...</td>\n",
              "    </tr>\n",
              "    <tr>\n",
              "      <th>2</th>\n",
              "      <td>spam</td>\n",
              "      <td>Free entry in 2 a wkly comp to win FA Cup fina...</td>\n",
              "    </tr>\n",
              "    <tr>\n",
              "      <th>3</th>\n",
              "      <td>ham</td>\n",
              "      <td>U dun say so early hor... U c already then say...</td>\n",
              "    </tr>\n",
              "    <tr>\n",
              "      <th>4</th>\n",
              "      <td>ham</td>\n",
              "      <td>Nah I don't think he goes to usf, he lives aro...</td>\n",
              "    </tr>\n",
              "  </tbody>\n",
              "</table>\n",
              "</div>"
            ],
            "text/plain": [
              "  Label                                            Message\n",
              "0   ham  Go until jurong point, crazy.. Available only ...\n",
              "1   ham                      Ok lar... Joking wif u oni...\n",
              "2  spam  Free entry in 2 a wkly comp to win FA Cup fina...\n",
              "3   ham  U dun say so early hor... U c already then say...\n",
              "4   ham  Nah I don't think he goes to usf, he lives aro..."
            ]
          },
          "execution_count": 8,
          "metadata": {},
          "output_type": "execute_result"
        }
      ],
      "source": [
        "messages.head()"
      ]
    },
    {
      "cell_type": "code",
      "execution_count": 9,
      "metadata": {
        "colab": {
          "base_uri": "https://localhost:8080/"
        },
        "id": "CwAFdBimx6Tf",
        "outputId": "1c9837d1-85cf-4b86-ce68-9dd75a7e8076"
      },
      "outputs": [
        {
          "data": {
            "text/plain": [
              "Label      0\n",
              "Message    0\n",
              "dtype: int64"
            ]
          },
          "execution_count": 9,
          "metadata": {},
          "output_type": "execute_result"
        }
      ],
      "source": [
        "messages.isna().sum()"
      ]
    },
    {
      "cell_type": "code",
      "execution_count": 10,
      "metadata": {
        "colab": {
          "base_uri": "https://localhost:8080/",
          "height": 174
        },
        "id": "JlP2Cvm-yvUK",
        "outputId": "df408476-24b1-4e41-9c72-8e533f383f9e"
      },
      "outputs": [
        {
          "data": {
            "text/html": [
              "<div>\n",
              "<style scoped>\n",
              "    .dataframe tbody tr th:only-of-type {\n",
              "        vertical-align: middle;\n",
              "    }\n",
              "\n",
              "    .dataframe tbody tr th {\n",
              "        vertical-align: top;\n",
              "    }\n",
              "\n",
              "    .dataframe thead tr th {\n",
              "        text-align: left;\n",
              "    }\n",
              "\n",
              "    .dataframe thead tr:last-of-type th {\n",
              "        text-align: right;\n",
              "    }\n",
              "</style>\n",
              "<table border=\"1\" class=\"dataframe\">\n",
              "  <thead>\n",
              "    <tr>\n",
              "      <th></th>\n",
              "      <th colspan=\"4\" halign=\"left\">Message</th>\n",
              "    </tr>\n",
              "    <tr>\n",
              "      <th></th>\n",
              "      <th>count</th>\n",
              "      <th>unique</th>\n",
              "      <th>top</th>\n",
              "      <th>freq</th>\n",
              "    </tr>\n",
              "    <tr>\n",
              "      <th>Label</th>\n",
              "      <th></th>\n",
              "      <th></th>\n",
              "      <th></th>\n",
              "      <th></th>\n",
              "    </tr>\n",
              "  </thead>\n",
              "  <tbody>\n",
              "    <tr>\n",
              "      <th>ham</th>\n",
              "      <td>4827</td>\n",
              "      <td>4518</td>\n",
              "      <td>Sorry, I'll call later</td>\n",
              "      <td>30</td>\n",
              "    </tr>\n",
              "    <tr>\n",
              "      <th>spam</th>\n",
              "      <td>747</td>\n",
              "      <td>653</td>\n",
              "      <td>Please call our customer service representativ...</td>\n",
              "      <td>4</td>\n",
              "    </tr>\n",
              "  </tbody>\n",
              "</table>\n",
              "</div>"
            ],
            "text/plain": [
              "      Message                                                               \n",
              "        count unique                                                top freq\n",
              "Label                                                                       \n",
              "ham      4827   4518                             Sorry, I'll call later   30\n",
              "spam      747    653  Please call our customer service representativ...    4"
            ]
          },
          "execution_count": 10,
          "metadata": {},
          "output_type": "execute_result"
        }
      ],
      "source": [
        "messages.groupby('Label').describe()"
      ]
    },
    {
      "cell_type": "markdown",
      "metadata": {
        "id": "pr8m4d4QyYUB"
      },
      "source": [
        "Converting ham to 0 and spam to 1's in the label columns.  \n",
        "Note that we can also do this manually"
      ]
    },
    {
      "cell_type": "code",
      "execution_count": 11,
      "metadata": {
        "colab": {
          "base_uri": "https://localhost:8080/"
        },
        "id": "0ohU1j0AyWin",
        "outputId": "354ea754-49f7-4072-b9c5-df41393d92ed"
      },
      "outputs": [
        {
          "data": {
            "text/plain": [
              "0    4827\n",
              "1     747\n",
              "Name: Label, dtype: int64"
            ]
          },
          "execution_count": 11,
          "metadata": {},
          "output_type": "execute_result"
        }
      ],
      "source": [
        "encode = LabelEncoder()\n",
        "messages['Label'] = encode.fit_transform(messages['Label'])\n",
        "messages['Label'].value_counts()"
      ]
    },
    {
      "cell_type": "code",
      "execution_count": 12,
      "metadata": {},
      "outputs": [
        {
          "data": {
            "text/html": [
              "<div>\n",
              "<style scoped>\n",
              "    .dataframe tbody tr th:only-of-type {\n",
              "        vertical-align: middle;\n",
              "    }\n",
              "\n",
              "    .dataframe tbody tr th {\n",
              "        vertical-align: top;\n",
              "    }\n",
              "\n",
              "    .dataframe thead th {\n",
              "        text-align: right;\n",
              "    }\n",
              "</style>\n",
              "<table border=\"1\" class=\"dataframe\">\n",
              "  <thead>\n",
              "    <tr style=\"text-align: right;\">\n",
              "      <th></th>\n",
              "      <th>Label</th>\n",
              "      <th>Message</th>\n",
              "    </tr>\n",
              "  </thead>\n",
              "  <tbody>\n",
              "    <tr>\n",
              "      <th>0</th>\n",
              "      <td>0</td>\n",
              "      <td>Go until jurong point, crazy.. Available only ...</td>\n",
              "    </tr>\n",
              "    <tr>\n",
              "      <th>1</th>\n",
              "      <td>0</td>\n",
              "      <td>Ok lar... Joking wif u oni...</td>\n",
              "    </tr>\n",
              "    <tr>\n",
              "      <th>2</th>\n",
              "      <td>1</td>\n",
              "      <td>Free entry in 2 a wkly comp to win FA Cup fina...</td>\n",
              "    </tr>\n",
              "    <tr>\n",
              "      <th>3</th>\n",
              "      <td>0</td>\n",
              "      <td>U dun say so early hor... U c already then say...</td>\n",
              "    </tr>\n",
              "    <tr>\n",
              "      <th>4</th>\n",
              "      <td>0</td>\n",
              "      <td>Nah I don't think he goes to usf, he lives aro...</td>\n",
              "    </tr>\n",
              "  </tbody>\n",
              "</table>\n",
              "</div>"
            ],
            "text/plain": [
              "   Label                                            Message\n",
              "0      0  Go until jurong point, crazy.. Available only ...\n",
              "1      0                      Ok lar... Joking wif u oni...\n",
              "2      1  Free entry in 2 a wkly comp to win FA Cup fina...\n",
              "3      0  U dun say so early hor... U c already then say...\n",
              "4      0  Nah I don't think he goes to usf, he lives aro..."
            ]
          },
          "execution_count": 12,
          "metadata": {},
          "output_type": "execute_result"
        }
      ],
      "source": [
        "messages.head()"
      ]
    },
    {
      "cell_type": "markdown",
      "metadata": {
        "id": "jTYJjJ2-0Aaq"
      },
      "source": [
        "## Preprocessing data"
      ]
    },
    {
      "cell_type": "code",
      "execution_count": 13,
      "metadata": {
        "id": "gzoCM6nG4ZCh"
      },
      "outputs": [],
      "source": [
        "STOPWORDS = set(stopwords.words('english'))\n",
        "\n",
        "def remove_punct(text):\n",
        "    pattern = re.compile(r'[^\\w\\s]')\n",
        "    return pattern.sub(r'', text)\n",
        "\n",
        "def to_lower(text):\n",
        "    return text.lower()\n",
        "\n",
        "def stopwords(text):\n",
        "    a = \" \".join([word for word in str(text).split() if word not in STOPWORDS])\n",
        "    if a != '':\n",
        "        return a\n",
        "    else:\n",
        "        return np.nan\n",
        "\n",
        "def word_tokenizer(text):\n",
        "    return word_tokenize(text)\n",
        "\n",
        "def lemmatization(text):\n",
        "    wnl = WordNetLemmatizer()\n",
        "    textlist = word_tokenize(text)\n",
        "    lemmatized_string = ' '.join([wnl.lemmatize(words) for words in textlist])\n",
        "    return lemmatized_string"
      ]
    },
    {
      "cell_type": "code",
      "execution_count": 14,
      "metadata": {
        "id": "CBHv61F30TYE"
      },
      "outputs": [],
      "source": [
        "corpus = messages['Message'].apply(to_lower)"
      ]
    },
    {
      "cell_type": "code",
      "execution_count": 15,
      "metadata": {
        "id": "gRg9AI2K07AF"
      },
      "outputs": [],
      "source": [
        "corpus = corpus.map(remove_punct)"
      ]
    },
    {
      "cell_type": "code",
      "execution_count": 16,
      "metadata": {
        "id": "7cdN-beX1KZR"
      },
      "outputs": [],
      "source": [
        "corpus = corpus.map(stopwords)"
      ]
    },
    {
      "cell_type": "code",
      "execution_count": 17,
      "metadata": {
        "id": "1VKreXVY4pbt"
      },
      "outputs": [],
      "source": [
        "corpus = corpus.replace(np.nan, '', regex=True)"
      ]
    },
    {
      "cell_type": "code",
      "execution_count": 18,
      "metadata": {
        "id": "k9ffkgdu1S8E"
      },
      "outputs": [],
      "source": [
        "messages['Text'] = corpus.map(lemmatization)"
      ]
    },
    {
      "cell_type": "code",
      "execution_count": 19,
      "metadata": {
        "colab": {
          "base_uri": "https://localhost:8080/",
          "height": 206
        },
        "id": "EX-FqD4h9EPt",
        "outputId": "b17405c4-13e3-4be0-9665-f12b58ec9a0e"
      },
      "outputs": [
        {
          "data": {
            "text/html": [
              "<div>\n",
              "<style scoped>\n",
              "    .dataframe tbody tr th:only-of-type {\n",
              "        vertical-align: middle;\n",
              "    }\n",
              "\n",
              "    .dataframe tbody tr th {\n",
              "        vertical-align: top;\n",
              "    }\n",
              "\n",
              "    .dataframe thead th {\n",
              "        text-align: right;\n",
              "    }\n",
              "</style>\n",
              "<table border=\"1\" class=\"dataframe\">\n",
              "  <thead>\n",
              "    <tr style=\"text-align: right;\">\n",
              "      <th></th>\n",
              "      <th>Label</th>\n",
              "      <th>Message</th>\n",
              "      <th>Text</th>\n",
              "    </tr>\n",
              "  </thead>\n",
              "  <tbody>\n",
              "    <tr>\n",
              "      <th>0</th>\n",
              "      <td>0</td>\n",
              "      <td>Go until jurong point, crazy.. Available only ...</td>\n",
              "      <td>go jurong point crazy available bugis n great ...</td>\n",
              "    </tr>\n",
              "    <tr>\n",
              "      <th>1</th>\n",
              "      <td>0</td>\n",
              "      <td>Ok lar... Joking wif u oni...</td>\n",
              "      <td>ok lar joking wif u oni</td>\n",
              "    </tr>\n",
              "    <tr>\n",
              "      <th>2</th>\n",
              "      <td>1</td>\n",
              "      <td>Free entry in 2 a wkly comp to win FA Cup fina...</td>\n",
              "      <td>free entry 2 wkly comp win fa cup final tkts 2...</td>\n",
              "    </tr>\n",
              "    <tr>\n",
              "      <th>3</th>\n",
              "      <td>0</td>\n",
              "      <td>U dun say so early hor... U c already then say...</td>\n",
              "      <td>u dun say early hor u c already say</td>\n",
              "    </tr>\n",
              "    <tr>\n",
              "      <th>4</th>\n",
              "      <td>0</td>\n",
              "      <td>Nah I don't think he goes to usf, he lives aro...</td>\n",
              "      <td>nah dont think go usf life around though</td>\n",
              "    </tr>\n",
              "  </tbody>\n",
              "</table>\n",
              "</div>"
            ],
            "text/plain": [
              "   Label                                            Message  \\\n",
              "0      0  Go until jurong point, crazy.. Available only ...   \n",
              "1      0                      Ok lar... Joking wif u oni...   \n",
              "2      1  Free entry in 2 a wkly comp to win FA Cup fina...   \n",
              "3      0  U dun say so early hor... U c already then say...   \n",
              "4      0  Nah I don't think he goes to usf, he lives aro...   \n",
              "\n",
              "                                                Text  \n",
              "0  go jurong point crazy available bugis n great ...  \n",
              "1                            ok lar joking wif u oni  \n",
              "2  free entry 2 wkly comp win fa cup final tkts 2...  \n",
              "3                u dun say early hor u c already say  \n",
              "4           nah dont think go usf life around though  "
            ]
          },
          "execution_count": 19,
          "metadata": {},
          "output_type": "execute_result"
        }
      ],
      "source": [
        "messages.head()"
      ]
    },
    {
      "cell_type": "markdown",
      "metadata": {
        "id": "bT9cPFh37jYC"
      },
      "source": [
        "## Splitting data into Training, Validation and Test Set and saving them as csv"
      ]
    },
    {
      "cell_type": "code",
      "execution_count": 20,
      "metadata": {
        "id": "UjjPaW9c4C9e"
      },
      "outputs": [],
      "source": [
        "X_train, X_test, y_train, y_test = train_test_split(messages.Text, messages['Label'], test_size=0.15, random_state=11)\n",
        "X_train, X_val, y_train, y_val = train_test_split(X_train, y_train, test_size=0.15, random_state=11)"
      ]
    },
    {
      "cell_type": "code",
      "execution_count": 21,
      "metadata": {},
      "outputs": [
        {
          "name": "stdout",
          "output_type": "stream",
          "text": [
            "Train set - number of 0s: 3483 number of 1s: 543\n",
            "Validation set - number of 0s: 622 number of 1s: 89\n",
            "Test set - number of 0s: 722 number of 1s: 115\n"
          ]
        }
      ],
      "source": [
        "## checking the data profile with seed 101\n",
        "print(\"Train set - number of 0s:\", sum(y_train == 0), \"number of 1s:\", sum(y_train == 1))\n",
        "print(\"Validation set - number of 0s:\", sum(y_val == 0), \"number of 1s:\", sum(y_val== 1))\n",
        "print(\"Test set - number of 0s:\", sum(y_test== 0), \"number of 1s:\", sum(y_test== 1))"
      ]
    },
    {
      "cell_type": "code",
      "execution_count": 22,
      "metadata": {},
      "outputs": [],
      "source": [
        "df_train = pd.DataFrame(list(zip(X_train,y_train)),columns=[\"Text\",'Label'])\n",
        "df_test = pd.DataFrame(list(zip(X_test,y_test)),columns=[\"Text\",'Label'])\n",
        "df_val = pd.DataFrame(list(zip(X_val,y_val)),columns=[\"Text\",'Label'])\n",
        "df_val.to_csv('./Data/Validation Data.csv',index=False) \n",
        "df_test.to_csv('./Data/Test Data.csv',index=False) \n",
        "df_train.to_csv('./Data/Training Data.csv',index=False) "
      ]
    },
    {
      "attachments": {},
      "cell_type": "markdown",
      "metadata": {},
      "source": [
        "## Working with Git and DVC to track data"
      ]
    },
    {
      "cell_type": "code",
      "execution_count": 2,
      "metadata": {},
      "outputs": [
        {
          "name": "stdout",
          "output_type": "stream",
          "text": [
            "Initialized empty Git repository in C:/Users/shrey/OneDrive/Documents/Semester-4/AML/Applied-Machine-Learning/Assignment_2/.git/\n",
            "Initialized DVC repository.\n",
            "\n",
            "You can now commit the changes to git.\n",
            "\n",
            "+---------------------------------------------------------------------+\n",
            "|                                                                     |\n",
            "|        DVC has enabled anonymous aggregate usage analytics.         |\n",
            "|     Read the analytics documentation (and how to opt-out) here:     |\n",
            "|             <https://dvc.org/doc/user-guide/analytics>              |\n",
            "|                                                                     |\n",
            "+---------------------------------------------------------------------+\n",
            "\n",
            "What's next?\n",
            "------------\n",
            "- Check out the documentation: <https://dvc.org/doc>\n",
            "- Get help and share ideas: <https://dvc.org/chat>\n",
            "- Star us on GitHub: <https://github.com/iterative/dvc>\n"
          ]
        }
      ],
      "source": [
        "# ! pip install dvc\n",
        "! git init\n",
        "! dvc init"
      ]
    },
    {
      "cell_type": "code",
      "execution_count": 30,
      "metadata": {},
      "outputs": [
        {
          "name": "stdout",
          "output_type": "stream",
          "text": [
            "\n",
            "To track the changes with git, run:\n",
            "\n",
            "\tgit add Data.dvc .gitignore\n",
            "\n",
            "To enable auto staging, run:\n",
            "\n",
            "\tdvc config core.autostage true\n",
            "[master (root-commit) 82dfe80] Tracking Data\n",
            " 4 files changed, 11 insertions(+)\n",
            " create mode 100644 .dvc/.gitignore\n",
            " create mode 100644 .dvc/config\n",
            " create mode 100644 .dvcignore\n",
            " create mode 100644 Data.dvc\n"
          ]
        }
      ],
      "source": [
        "! dvc add Data\n",
        "! git add Data.dvc\n",
        "! git commit -m \"Tracking Data\""
      ]
    },
    {
      "cell_type": "code",
      "execution_count": 48,
      "metadata": {},
      "outputs": [
        {
          "name": "stdout",
          "output_type": "stream",
          "text": [
            "Setting 'myremote' as a default remote.\n"
          ]
        }
      ],
      "source": [
        "! dvc remote add -d -f myremote gdrive://1LdQMltsMk95fJoO5RnM821C7EO5Wvj7k"
      ]
    },
    {
      "cell_type": "code",
      "execution_count": 49,
      "metadata": {},
      "outputs": [
        {
          "name": "stdout",
          "output_type": "stream",
          "text": [
            "4 files pushed\n"
          ]
        }
      ],
      "source": [
        "! dvc push"
      ]
    },
    {
      "attachments": {},
      "cell_type": "markdown",
      "metadata": {},
      "source": [
        "### Splitting the data into three parts again"
      ]
    },
    {
      "cell_type": "code",
      "execution_count": 50,
      "metadata": {},
      "outputs": [],
      "source": [
        "X_train, X_test, y_train, y_test = train_test_split(messages.Text, messages['Label'], test_size=0.15, random_state=100)\n",
        "X_train, X_val, y_train, y_val = train_test_split(X_train, y_train, test_size=0.15, random_state=100)"
      ]
    },
    {
      "cell_type": "code",
      "execution_count": 51,
      "metadata": {},
      "outputs": [
        {
          "name": "stdout",
          "output_type": "stream",
          "text": [
            "Train set - number of 0s: 3470 number of 1s: 556\n",
            "Validation set - number of 0s: 617 number of 1s: 94\n",
            "Test set - number of 0s: 740 number of 1s: 97\n"
          ]
        }
      ],
      "source": [
        "## checking the data profile with seed 100\n",
        "print(\"Train set - number of 0s:\", sum(y_train == 0), \"number of 1s:\", sum(y_train == 1))\n",
        "print(\"Validation set - number of 0s:\", sum(y_val == 0), \"number of 1s:\", sum(y_val== 1))\n",
        "print(\"Test set - number of 0s:\", sum(y_test== 0), \"number of 1s:\", sum(y_test== 1))"
      ]
    },
    {
      "cell_type": "code",
      "execution_count": 52,
      "metadata": {},
      "outputs": [],
      "source": [
        "df_train = pd.DataFrame(list(zip(X_train,y_train)),columns=[\"Text\",'Label'])\n",
        "df_test = pd.DataFrame(list(zip(X_test,y_test)),columns=[\"Text\",'Label'])\n",
        "df_val = pd.DataFrame(list(zip(X_val,y_val)),columns=[\"Text\",'Label'])\n",
        "df_val.to_csv('Data/Validation Data.csv',index=False) \n",
        "df_test.to_csv('Data/Test Data.csv',index=False) \n",
        "df_train.to_csv('Data/Training Data.csv',index=False) "
      ]
    },
    {
      "cell_type": "code",
      "execution_count": 53,
      "metadata": {},
      "outputs": [
        {
          "name": "stdout",
          "output_type": "stream",
          "text": [
            "\n",
            "To track the changes with git, run:\n",
            "\n",
            "\tgit add Data.dvc\n",
            "\n",
            "To enable auto staging, run:\n",
            "\n",
            "\tdvc config core.autostage true\n",
            "[master 7328f9a] Seed Changes\n",
            " 1 file changed, 1 insertion(+), 1 deletion(-)\n",
            "4 files pushed\n"
          ]
        }
      ],
      "source": [
        "! dvc add Data\n",
        "! git add Data.dvc\n",
        "! git commit -m \"Seed Changes\"\n",
        "! dvc push"
      ]
    },
    {
      "cell_type": "code",
      "execution_count": 54,
      "metadata": {},
      "outputs": [
        {
          "name": "stdout",
          "output_type": "stream",
          "text": [
            "7328f9a Seed Changes\n",
            "82dfe80 Tracking Data\n"
          ]
        }
      ],
      "source": [
        "! git log --oneline"
      ]
    },
    {
      "attachments": {},
      "cell_type": "markdown",
      "metadata": {},
      "source": [
        "Getting the first version i.e, seed 11"
      ]
    },
    {
      "cell_type": "code",
      "execution_count": null,
      "metadata": {},
      "outputs": [],
      "source": [
        "! git checkout HEAD^1 Data.dvc      \n",
        "! dvc checkout "
      ]
    },
    {
      "cell_type": "code",
      "execution_count": 2,
      "metadata": {},
      "outputs": [],
      "source": [
        "train = pd.read_csv('./Data/Training Data.csv')\n",
        "val = pd.read_csv('./Data/Validation Data.csv')\n",
        "test = pd.read_csv('./Data/Test Data.csv')"
      ]
    },
    {
      "cell_type": "code",
      "execution_count": 3,
      "metadata": {},
      "outputs": [
        {
          "name": "stdout",
          "output_type": "stream",
          "text": [
            "Train set - number of 0s: 3483 number of 1s: 543\n",
            "Validation set - number of 0s: 622 number of 1s: 89\n",
            "Test set - number of 0s: 722 number of 1s: 115\n"
          ]
        }
      ],
      "source": [
        "## checking the data profile before update\n",
        "print(\"Train set - number of 0s:\", sum(train['Label'] == 0), \"number of 1s:\", sum(train['Label'] == 1))\n",
        "print(\"Validation set - number of 0s:\", sum(val['Label'] == 0), \"number of 1s:\", sum(val['Label'] == 1))\n",
        "print(\"Test set - number of 0s:\", sum(test['Label'] == 0), \"number of 1s:\", sum(test['Label'] == 1))"
      ]
    },
    {
      "attachments": {},
      "cell_type": "markdown",
      "metadata": {},
      "source": [
        "\n",
        "Getting the second version i.e, seed 100"
      ]
    },
    {
      "cell_type": "code",
      "execution_count": 60,
      "metadata": {},
      "outputs": [
        {
          "name": "stderr",
          "output_type": "stream",
          "text": [
            "Updated 0 paths from acb22c4\n"
          ]
        }
      ],
      "source": [
        "! git checkout HEAD Data.dvc      \n",
        "! dvc checkout "
      ]
    },
    {
      "cell_type": "code",
      "execution_count": 61,
      "metadata": {},
      "outputs": [],
      "source": [
        "train = pd.read_csv('Data/Training Data.csv')\n",
        "val = pd.read_csv('Data/Validation Data.csv')\n",
        "test = pd.read_csv('Data/Test Data.csv')"
      ]
    },
    {
      "cell_type": "code",
      "execution_count": 62,
      "metadata": {},
      "outputs": [
        {
          "name": "stdout",
          "output_type": "stream",
          "text": [
            "Train set - number of 0s: 3470 number of 1s: 556\n",
            "Validation set - number of 0s: 617 number of 1s: 94\n",
            "Test set - number of 0s: 740 number of 1s: 97\n"
          ]
        }
      ],
      "source": [
        "## checking the data profile before update\n",
        "print(\"Train set - number of 0s:\", sum(train['Label'] == 0), \"number of 1s:\", sum(train['Label'] == 1))\n",
        "print(\"Validation set - number of 0s:\", sum(val['Label'] == 0), \"number of 1s:\", sum(val['Label'] == 1))\n",
        "print(\"Test set - number of 0s:\", sum(test['Label'] == 0), \"number of 1s:\", sum(test['Label'] == 1))"
      ]
    }
  ],
  "metadata": {
    "colab": {
      "provenance": []
    },
    "kernelspec": {
      "display_name": "Python 3",
      "language": "python",
      "name": "python3"
    },
    "language_info": {
      "codemirror_mode": {
        "name": "ipython",
        "version": 3
      },
      "file_extension": ".py",
      "mimetype": "text/x-python",
      "name": "python",
      "nbconvert_exporter": "python",
      "pygments_lexer": "ipython3",
      "version": "3.9.5"
    },
    "vscode": {
      "interpreter": {
        "hash": "7fc781d734b03aaf50649f51b85f1717dd603f36c3b9d01c30fafc7d1f894df4"
      }
    }
  },
  "nbformat": 4,
  "nbformat_minor": 0
}
