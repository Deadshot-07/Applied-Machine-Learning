{
  "cells": [
    {
      "cell_type": "markdown",
      "metadata": {
        "id": "7E6irwvNwfYq"
      },
      "source": [
        "# Assignment 1 : SMS Spam Classification"
      ]
    },
    {
      "cell_type": "markdown",
      "metadata": {
        "id": "BnM_abBAwarO"
      },
      "source": [
        "## Importing Libraries"
      ]
    },
    {
      "cell_type": "code",
      "execution_count": null,
      "metadata": {},
      "outputs": [],
      "source": [
        "# ! pip install mlflow\n",
        "# ! pip install jinja2==3.0.3"
      ]
    },
    {
      "cell_type": "code",
      "execution_count": 8,
      "metadata": {
        "id": "l4b3EZxi6W2l"
      },
      "outputs": [],
      "source": [
        "import mlflow\n",
        "import logging\n",
        "from urllib.parse import urlparse\n",
        "from markupsafe import escape\n",
        "\n",
        "logging.basicConfig(level=logging.WARN)\n",
        "logger = logging.getLogger(__name__)\n",
        "\n",
        "import numpy as np\n",
        "import pandas as pd\n",
        "\n",
        "%matplotlib inline\n",
        "import matplotlib.pyplot as plt\n",
        "\n",
        "from sklearn.feature_extraction.text import CountVectorizer,TfidfTransformer\n",
        "from sklearn.naive_bayes import MultinomialNB\n",
        "from sklearn.linear_model import LogisticRegression\n",
        "from sklearn.metrics import plot_confusion_matrix\n",
        "from sklearn.metrics import  classification_report, confusion_matrix, accuracy_score\n",
        "from sklearn.neural_network import MLPClassifier\n",
        "from sklearn.naive_bayes import MultinomialNB"
      ]
    },
    {
      "cell_type": "markdown",
      "metadata": {
        "id": "iU4OeFANwmws"
      },
      "source": [
        "## Loading training, validation, test data"
      ]
    },
    {
      "cell_type": "code",
      "execution_count": 11,
      "metadata": {
        "id": "D2YgvPlXqCij"
      },
      "outputs": [],
      "source": [
        "train=pd.read_csv(\"Data/Training Data.csv\")\n",
        "val=pd.read_csv(\"Data/Validation Data.csv\")\n",
        "test=pd.read_csv(\"Data/Test Data.csv\")"
      ]
    },
    {
      "cell_type": "code",
      "execution_count": 12,
      "metadata": {
        "colab": {
          "base_uri": "https://localhost:8080/",
          "height": 206
        },
        "id": "vruRCffoqTI5",
        "outputId": "752e5a81-4673-437c-e82c-eea85e26c88d"
      },
      "outputs": [
        {
          "data": {
            "text/html": [
              "<div>\n",
              "<style scoped>\n",
              "    .dataframe tbody tr th:only-of-type {\n",
              "        vertical-align: middle;\n",
              "    }\n",
              "\n",
              "    .dataframe tbody tr th {\n",
              "        vertical-align: top;\n",
              "    }\n",
              "\n",
              "    .dataframe thead th {\n",
              "        text-align: right;\n",
              "    }\n",
              "</style>\n",
              "<table border=\"1\" class=\"dataframe\">\n",
              "  <thead>\n",
              "    <tr style=\"text-align: right;\">\n",
              "      <th></th>\n",
              "      <th>Text</th>\n",
              "      <th>Label</th>\n",
              "    </tr>\n",
              "  </thead>\n",
              "  <tbody>\n",
              "    <tr>\n",
              "      <th>0</th>\n",
              "      <td>need coffee run tomocant believe time week alr...</td>\n",
              "      <td>0</td>\n",
              "    </tr>\n",
              "    <tr>\n",
              "      <th>1</th>\n",
              "      <td>need say anything know outsider</td>\n",
              "      <td>0</td>\n",
              "    </tr>\n",
              "    <tr>\n",
              "      <th>2</th>\n",
              "      <td>hit move</td>\n",
              "      <td>0</td>\n",
              "    </tr>\n",
              "    <tr>\n",
              "      <th>3</th>\n",
              "      <td>yup thk e shop close lor</td>\n",
              "      <td>0</td>\n",
              "    </tr>\n",
              "    <tr>\n",
              "      <th>4</th>\n",
              "      <td>ran younger man make pretty baby together</td>\n",
              "      <td>0</td>\n",
              "    </tr>\n",
              "  </tbody>\n",
              "</table>\n",
              "</div>"
            ],
            "text/plain": [
              "                                                Text  Label\n",
              "0  need coffee run tomocant believe time week alr...      0\n",
              "1                    need say anything know outsider      0\n",
              "2                                           hit move      0\n",
              "3                           yup thk e shop close lor      0\n",
              "4          ran younger man make pretty baby together      0"
            ]
          },
          "execution_count": 12,
          "metadata": {},
          "output_type": "execute_result"
        }
      ],
      "source": [
        "train.head()"
      ]
    },
    {
      "cell_type": "code",
      "execution_count": 13,
      "metadata": {
        "colab": {
          "base_uri": "https://localhost:8080/",
          "height": 206
        },
        "id": "NPIZekE0qVUS",
        "outputId": "74c3fc49-560a-426d-ea1e-ea789428d565"
      },
      "outputs": [
        {
          "data": {
            "text/html": [
              "<div>\n",
              "<style scoped>\n",
              "    .dataframe tbody tr th:only-of-type {\n",
              "        vertical-align: middle;\n",
              "    }\n",
              "\n",
              "    .dataframe tbody tr th {\n",
              "        vertical-align: top;\n",
              "    }\n",
              "\n",
              "    .dataframe thead th {\n",
              "        text-align: right;\n",
              "    }\n",
              "</style>\n",
              "<table border=\"1\" class=\"dataframe\">\n",
              "  <thead>\n",
              "    <tr style=\"text-align: right;\">\n",
              "      <th></th>\n",
              "      <th>Text</th>\n",
              "      <th>Label</th>\n",
              "    </tr>\n",
              "  </thead>\n",
              "  <tbody>\n",
              "    <tr>\n",
              "      <th>0</th>\n",
              "      <td>oh god ive found number im glad text back xaft...</td>\n",
              "      <td>1</td>\n",
              "    </tr>\n",
              "    <tr>\n",
              "      <th>1</th>\n",
              "      <td>please leave topicsorry telling</td>\n",
              "      <td>0</td>\n",
              "    </tr>\n",
              "    <tr>\n",
              "      <th>2</th>\n",
              "      <td>hello hello hi lou sorry took long 2 reply lef...</td>\n",
              "      <td>0</td>\n",
              "    </tr>\n",
              "    <tr>\n",
              "      <th>3</th>\n",
              "      <td>k actually guy meet sunoco howard right way</td>\n",
              "      <td>0</td>\n",
              "    </tr>\n",
              "    <tr>\n",
              "      <th>4</th>\n",
              "      <td>dun b sad dun thk abt already concentrate ur p...</td>\n",
              "      <td>0</td>\n",
              "    </tr>\n",
              "  </tbody>\n",
              "</table>\n",
              "</div>"
            ],
            "text/plain": [
              "                                                Text  Label\n",
              "0  oh god ive found number im glad text back xaft...      1\n",
              "1                    please leave topicsorry telling      0\n",
              "2  hello hello hi lou sorry took long 2 reply lef...      0\n",
              "3        k actually guy meet sunoco howard right way      0\n",
              "4  dun b sad dun thk abt already concentrate ur p...      0"
            ]
          },
          "execution_count": 13,
          "metadata": {},
          "output_type": "execute_result"
        }
      ],
      "source": [
        "val.head()"
      ]
    },
    {
      "cell_type": "code",
      "execution_count": 14,
      "metadata": {
        "colab": {
          "base_uri": "https://localhost:8080/",
          "height": 206
        },
        "id": "70O7Zmn9qWko",
        "outputId": "d51f5e91-64ca-46fe-dbfd-730ca33c1ab2"
      },
      "outputs": [
        {
          "data": {
            "text/html": [
              "<div>\n",
              "<style scoped>\n",
              "    .dataframe tbody tr th:only-of-type {\n",
              "        vertical-align: middle;\n",
              "    }\n",
              "\n",
              "    .dataframe tbody tr th {\n",
              "        vertical-align: top;\n",
              "    }\n",
              "\n",
              "    .dataframe thead th {\n",
              "        text-align: right;\n",
              "    }\n",
              "</style>\n",
              "<table border=\"1\" class=\"dataframe\">\n",
              "  <thead>\n",
              "    <tr style=\"text-align: right;\">\n",
              "      <th></th>\n",
              "      <th>Text</th>\n",
              "      <th>Label</th>\n",
              "    </tr>\n",
              "  </thead>\n",
              "  <tbody>\n",
              "    <tr>\n",
              "      <th>0</th>\n",
              "      <td>oh k kbut big hitteranyway good</td>\n",
              "      <td>0</td>\n",
              "    </tr>\n",
              "    <tr>\n",
              "      <th>1</th>\n",
              "      <td>world suffers lot violence bad people silence ...</td>\n",
              "      <td>0</td>\n",
              "    </tr>\n",
              "    <tr>\n",
              "      <th>2</th>\n",
              "      <td>wan2 win meetgreet westlife 4 u m8 currently t...</td>\n",
              "      <td>1</td>\n",
              "    </tr>\n",
              "    <tr>\n",
              "      <th>3</th>\n",
              "      <td>dip cell dead coming u better respond else sha...</td>\n",
              "      <td>0</td>\n",
              "    </tr>\n",
              "    <tr>\n",
              "      <th>4</th>\n",
              "      <td>tot u reach liao said tshirt</td>\n",
              "      <td>0</td>\n",
              "    </tr>\n",
              "  </tbody>\n",
              "</table>\n",
              "</div>"
            ],
            "text/plain": [
              "                                                Text  Label\n",
              "0                    oh k kbut big hitteranyway good      0\n",
              "1  world suffers lot violence bad people silence ...      0\n",
              "2  wan2 win meetgreet westlife 4 u m8 currently t...      1\n",
              "3  dip cell dead coming u better respond else sha...      0\n",
              "4                       tot u reach liao said tshirt      0"
            ]
          },
          "execution_count": 14,
          "metadata": {},
          "output_type": "execute_result"
        }
      ],
      "source": [
        "test.head()"
      ]
    },
    {
      "cell_type": "code",
      "execution_count": 15,
      "metadata": {
        "id": "T3GwBPTCq9Mh"
      },
      "outputs": [],
      "source": [
        "y_train,X_train=train[\"Label\"],train[\"Text\"]\n",
        "y_val,X_val=val[\"Label\"],val[\"Text\"]\n",
        "y_test,X_test=test[\"Label\"],test[\"Text\"]"
      ]
    },
    {
      "cell_type": "markdown",
      "metadata": {
        "id": "4ioyO-p5w0_V"
      },
      "source": [
        "## Converting string to vectors, to give as input to the models"
      ]
    },
    {
      "cell_type": "code",
      "execution_count": 16,
      "metadata": {
        "id": "HF_M5FS0Q_SJ"
      },
      "outputs": [],
      "source": [
        "# replacing NAN entries by empty string\n",
        "X_train = X_train.replace(np.nan, '', regex=True)\n",
        "X_val = X_val.replace(np.nan, '', regex=True)\n",
        "X_test = X_test.replace(np.nan, '', regex=True)"
      ]
    },
    {
      "cell_type": "code",
      "execution_count": 17,
      "metadata": {
        "id": "tcRuskM8QGEX"
      },
      "outputs": [],
      "source": [
        "vector = CountVectorizer().fit(X_train)\n",
        "X_train_vec=vector.transform(X_train)\n",
        "X_val_vec=vector.transform(X_val)\n",
        "X_test_vec=vector.transform(X_test)"
      ]
    },
    {
      "cell_type": "code",
      "execution_count": 18,
      "metadata": {
        "colab": {
          "base_uri": "https://localhost:8080/"
        },
        "id": "76K_9F6U6FKC",
        "outputId": "880ef5ca-8a76-490f-cd65-416b55982928"
      },
      "outputs": [
        {
          "data": {
            "text/plain": [
              "((4026, 7432), (711, 7432), (837, 7432))"
            ]
          },
          "execution_count": 18,
          "metadata": {},
          "output_type": "execute_result"
        }
      ],
      "source": [
        "X_train_vec.shape,X_val_vec.shape,X_test_vec.shape"
      ]
    },
    {
      "cell_type": "code",
      "execution_count": 19,
      "metadata": {
        "id": "cN-u6hq66Iro"
      },
      "outputs": [],
      "source": [
        "tfidf_transformer = TfidfTransformer()\n",
        "tfidf_train = tfidf_transformer.fit_transform(X_train_vec)\n",
        "tfidf_val = tfidf_transformer.fit_transform(X_val_vec)\n",
        "tfidf_test = tfidf_transformer.fit_transform(X_test_vec)"
      ]
    },
    {
      "cell_type": "code",
      "execution_count": 20,
      "metadata": {
        "colab": {
          "base_uri": "https://localhost:8080/"
        },
        "id": "wemn-yWV6KUp",
        "outputId": "a1347436-bb94-4732-83cd-1541466799bb"
      },
      "outputs": [
        {
          "data": {
            "text/plain": [
              "((4026, 7432), (711, 7432), (837, 7432))"
            ]
          },
          "execution_count": 20,
          "metadata": {},
          "output_type": "execute_result"
        }
      ],
      "source": [
        "tfidf_train.shape,tfidf_val.shape,tfidf_test.shape"
      ]
    },
    {
      "cell_type": "markdown",
      "metadata": {
        "id": "4vX-z4Xkw7QU"
      },
      "source": [
        "## Training Models"
      ]
    },
    {
      "cell_type": "code",
      "execution_count": null,
      "metadata": {},
      "outputs": [],
      "source": [
        "def eval_metrics(actual, pred):\n",
        "    precision, recall, thresholds = precision_recall_curve(actual, pred)\n",
        "    auc_precision_recall = auc(recall, precision)\n",
        "    return (auc_precision_recall)"
      ]
    },
    {
      "cell_type": "markdown",
      "metadata": {
        "id": "p9xaUpipy9Yq"
      },
      "source": [
        "# Multinomial Naive Bayes"
      ]
    },
    {
      "cell_type": "code",
      "execution_count": null,
      "metadata": {},
      "outputs": [],
      "source": [
        "mlflow.sklearn.autolog()\n",
        "\n",
        "clf = MultinomialNB()\n",
        "clf.fit(tfidf_train, y_train)\n",
        "\n",
        "y_pred = clf.predict(tfidf_test)\n",
        "aucpr = eval_metrics(y_test, y_pred)\n",
        "acc = accuracy_score(y_test, y_pred)\n",
        "conf_2=confusion_matrix(y_test, y_pred)\n",
        "\n",
        "with mlflow.start_run(run_name=\"Multinomial Naive Bayes\"):\n",
        "\n",
        "    mlflow.log_metric(\"accuracy\", acc)\n",
        "    mlflow.log_metric(\"AUCPR\",aucpr)\n",
        "    mlflow.sklearn.log_model(clf, \"model\")\n",
        "    mlflow.log_dict(np.array(conf_2).tolist(), \"confusion_matrix.json\")\n",
        "\n",
        "    print(\"\\nMultinomial Naive Bayes\")\n",
        "    print(f\"Accuracy: {acc}\")\n",
        "    print(f\"AUCPR: {aucpr}\")\n",
        "    print(f\"Confusion Matrix: {conf_2} \\n\\n\")\n",
        "    \n",
        "\n",
        "    tracking_url_type_store = urlparse(mlflow.get_tracking_uri()).scheme\n",
        "    mlflow.sklearn.log_model(\n",
        "        sk_model=clf,\n",
        "        artifact_path=\"sklearn-model\",\n",
        "        registered_model_name=\"multinomial-nb-model\"\n",
        "    )\n",
        "    if tracking_url_type_store != \"file\":\n",
        "      mlflow.sklearn.log_model(clf, \"model\", registered_model_name=\"multinomial-nb-model\")\n",
        "    else:\n",
        "      mlflow.sklearn.log_model(clf, \"model\")\n"
      ]
    },
    {
      "cell_type": "code",
      "execution_count": null,
      "metadata": {},
      "outputs": [],
      "source": [
        "print(mlflow.tracking.MlflowClient().get_model_version(\"multinomial-nb-model\", '1'))"
      ]
    },
    {
      "cell_type": "markdown",
      "metadata": {
        "id": "aQYiVq2LzAQK"
      },
      "source": [
        "# Logistic Regression"
      ]
    },
    {
      "cell_type": "code",
      "execution_count": null,
      "metadata": {},
      "outputs": [],
      "source": [
        "mlflow.sklearn.autolog()\n",
        "\n",
        "n_estimators = 100\n",
        "clf = LogisticRegression(C=n_estimators)\n",
        "clf.fit(tfidf_train, y_train)\n",
        "\n",
        "y_pred = clf.predict(tfidf_test)\n",
        "aucpr = eval_metrics(y_test, y_pred)\n",
        "acc = accuracy_score(y_test, y_pred)\n",
        "conf_1=confusion_matrix(y_test, y_pred)\n",
        "\n",
        "with mlflow.start_run(run_name=f\"n_estimators : {n_estimators}\"):\n",
        "  \n",
        "    mlflow.log_param(\"n_estimators\", n_estimators)\n",
        "    mlflow.log_metric(\"accuracy\", acc)\n",
        "    mlflow.log_metric(\"AUCPR\",aucpr)\n",
        "    mlflow.log_dict(np.array(conf_1).tolist(), \"confusion_matrix.json\")\n",
        "    mlflow.sklearn.log_model(clf, \"model\")\n",
        "\n",
        "    print(\"\\nLogistic Regression Model (no_of_estimator={:f}):\".format(n_estimators))\n",
        "    print(f\"Accuracy: {acc}\")\n",
        "    print(f\"AUCPR: {aucpr} \")\n",
        "    print(f\"Confusion Matrix: {conf_1} \\n \\n\")\n",
        "    \n",
        "\n",
        "    tracking_url_type_store = urlparse(mlflow.get_tracking_uri()).scheme\n",
        "    mlflow.sklearn.log_model(\n",
        "        sk_model=clf,\n",
        "        artifact_path=\"sklearn-model\",\n",
        "        registered_model_name=\"logistic-regression-model\"\n",
        "    )\n",
        "    if tracking_url_type_store != \"file\":\n",
        "      mlflow.sklearn.log_model(clf, \"model\", registered_model_name=\"LogisticRegression\")\n",
        "    else:\n",
        "      mlflow.sklearn.log_model(clf, \"model\")\n"
      ]
    },
    {
      "cell_type": "code",
      "execution_count": null,
      "metadata": {},
      "outputs": [],
      "source": [
        "mlflow.tracking.MlflowClient().get_model_version(\"logistic-regression-model\",\"1\")"
      ]
    },
    {
      "cell_type": "markdown",
      "metadata": {
        "id": "4MmL2en2zw5X"
      },
      "source": [
        "# MLP Classifier"
      ]
    },
    {
      "cell_type": "code",
      "execution_count": null,
      "metadata": {},
      "outputs": [],
      "source": [
        "mlflow.sklearn.autolog()\n",
        "\n",
        "clf = MLPClassifier(random_state=101,learning_rate='adaptive')\n",
        "clf.fit(tfidf_train, y_train)\n",
        "\n",
        "y_pred = clf.predict(tfidf_test)\n",
        "aucpr = eval_metrics(y_test, y_pred)\n",
        "acc = accuracy_score(y_test, y_pred)\n",
        "conf_3=confusion_matrix(y_test, y_pred)\n",
        "\n",
        "with mlflow.start_run(run_name=\"Multilayer Perceptron\"):\n",
        "\n",
        "    mlflow.log_metric(\"accuracy\", acc)\n",
        "    mlflow.log_metric(\"AUCPR\",aucpr)\n",
        "    mlflow.sklearn.log_model(clf, \"model\")\n",
        "    \n",
        "    print(\"\\nMultilayer Perceptron\")\n",
        "    print(f\"Accuracy: {acc}\")\n",
        "    print(f\"AUCPR: {aucpr}\")\n",
        "    print(f\"Confusion Matrix {conf_3} \\n\\n\")\n",
        "    \n",
        "\n",
        "    tracking_url_type_store = urlparse(mlflow.get_tracking_uri()).scheme\n",
        "    mlflow.sklearn.log_model(\n",
        "        sk_model=clf,\n",
        "        artifact_path=\"sklearn-model\",\n",
        "        registered_model_name=\"multilayer-perceptron-model\"\n",
        "    )\n",
        "    if tracking_url_type_store != \"file\":\n",
        "      mlflow.sklearn.log_model(clf, \"model\", registered_model_name=\"multilayer-perceptron-model\")\n",
        "    else:\n",
        "      mlflow.sklearn.log_model(clf, \"model\")\n"
      ]
    },
    {
      "cell_type": "code",
      "execution_count": null,
      "metadata": {},
      "outputs": [],
      "source": [
        "print(mlflow.tracking.MlflowClient().get_model_version(\"multilayer-perceptron-model\", '1'))"
      ]
    },
    {
      "cell_type": "markdown",
      "metadata": {
        "id": "vOVxALByRhE0"
      },
      "source": [
        "# Conclusion"
      ]
    },
    {
      "cell_type": "markdown",
      "metadata": {
        "id": "vRqLT6oM9WF1"
      },
      "source": [
        "As our aim is to reduce False Negative , thus increasing recall."
      ]
    },
    {
      "cell_type": "markdown",
      "metadata": {
        "id": "iI24zyKURWMw"
      },
      "source": [
        "MLP classifier is the perect match, according to accuracy as well as recall criteria."
      ]
    }
  ],
  "metadata": {
    "colab": {
      "provenance": []
    },
    "kernelspec": {
      "display_name": "Python 3",
      "language": "python",
      "name": "python3"
    },
    "language_info": {
      "codemirror_mode": {
        "name": "ipython",
        "version": 3
      },
      "file_extension": ".py",
      "mimetype": "text/x-python",
      "name": "python",
      "nbconvert_exporter": "python",
      "pygments_lexer": "ipython3",
      "version": "3.9.5"
    },
    "vscode": {
      "interpreter": {
        "hash": "7fc781d734b03aaf50649f51b85f1717dd603f36c3b9d01c30fafc7d1f894df4"
      }
    }
  },
  "nbformat": 4,
  "nbformat_minor": 0
}
